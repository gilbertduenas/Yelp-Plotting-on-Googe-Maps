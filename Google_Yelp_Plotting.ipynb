{
 "cells": [
  {
   "cell_type": "code",
   "execution_count": 1,
   "metadata": {},
   "outputs": [],
   "source": [
    "# imports and fromes\n",
    "import _config\n",
    "import ast\n",
    "import gmaps\n",
    "import pandas as pd\n",
    "\n",
    "# declare variables\n",
    "gmaps.configure(api_key=_config.api_key_google)\n",
    "\n",
    "def map_google(csv_path):\n",
    "    # read csv into dataframe\n",
    "    df = pd.read_csv(csv_path)\n",
    "\n",
    "    # convert coordinate column from string to dictionary\n",
    "    coordinate_list = []\n",
    "    [coordinate_list.append(ast.literal_eval(cood)) for cood in df['coordinates']]\n",
    "\n",
    "    # strip latitude and longitude keys\n",
    "    zipcode_lat = []\n",
    "    zipcode_lon = []\n",
    "    for cood in coordinate_list:\n",
    "        zipcode_lat.append(cood['latitude'])\n",
    "        zipcode_lon.append(cood['longitude'])\n",
    "\n",
    "    # pair latitude and logitude into a tuple\n",
    "    lat_lon = list(zip(zipcode_lat, zipcode_lon))\n",
    "    df['coordinates'] = lat_lon\n",
    "\n",
    "    # convert the dataframe into a dictionary for the info box\n",
    "    yelp_dict = df.to_dict('records')\n",
    "    info_box_template = \"\"\"\n",
    "    <dl>\n",
    "    <dt>Name</dt><dd>{name}</dd>\n",
    "    <dt>Price</dt><dd>{price}</dd>\n",
    "    <dt>Rating</dt><dd>{rating}</dd>\n",
    "    <dt>URL</dt><dd>{url}</dd>\n",
    "    <dt>Coordinates</dt><dd>{coordinates}</dd>\n",
    "    </dl>\n",
    "    \"\"\"\n",
    "    info = [info_box_template.format(**place) for place in yelp_dict]\n",
    "\n",
    "    # build the map\n",
    "    marker_layer = gmaps.marker_layer(lat_lon, info_box_content=info)\n",
    "    fig = gmaps.figure()\n",
    "    fig.add_layer(marker_layer)\n",
    "    return fig"
   ]
  },
  {
   "cell_type": "code",
   "execution_count": 2,
   "metadata": {},
   "outputs": [
    {
     "data": {
      "application/vnd.jupyter.widget-view+json": {
       "model_id": "7cbd7a21d11c4bd0bc466efaeb4fc44f",
       "version_major": 2,
       "version_minor": 0
      },
      "text/plain": [
       "Figure(layout=FigureLayout(height='420px'))"
      ]
     },
     "metadata": {},
     "output_type": "display_data"
    }
   ],
   "source": [
    "# locations in San Diego\n",
    "map_google('data/yelp_sd.csv')"
   ]
  },
  {
   "cell_type": "code",
   "execution_count": 3,
   "metadata": {},
   "outputs": [
    {
     "data": {
      "application/vnd.jupyter.widget-view+json": {
       "model_id": "671cbdaf22ca4772ba95732c35314c52",
       "version_major": 2,
       "version_minor": 0
      },
      "text/plain": [
       "Figure(layout=FigureLayout(height='420px'))"
      ]
     },
     "metadata": {},
     "output_type": "display_data"
    }
   ],
   "source": [
    "# locations in Los Angeles\n",
    "map_google('data/yelp_la.csv')"
   ]
  },
  {
   "cell_type": "code",
   "execution_count": 4,
   "metadata": {
    "scrolled": false
   },
   "outputs": [
    {
     "data": {
      "application/vnd.jupyter.widget-view+json": {
       "model_id": "74332251b1c44273b3ca9948cac88509",
       "version_major": 2,
       "version_minor": 0
      },
      "text/plain": [
       "Figure(layout=FigureLayout(height='420px'))"
      ]
     },
     "metadata": {},
     "output_type": "display_data"
    }
   ],
   "source": [
    "# locations in San Francisco\n",
    "map_google('data/yelp_sf.csv')"
   ]
  },
  {
   "cell_type": "code",
   "execution_count": null,
   "metadata": {},
   "outputs": [],
   "source": []
  }
 ],
 "metadata": {
  "kernelspec": {
   "display_name": "Python 3",
   "language": "python",
   "name": "python3"
  },
  "language_info": {
   "codemirror_mode": {
    "name": "ipython",
    "version": 3
   },
   "file_extension": ".py",
   "mimetype": "text/x-python",
   "name": "python",
   "nbconvert_exporter": "python",
   "pygments_lexer": "ipython3",
   "version": "3.6.6"
  }
 },
 "nbformat": 4,
 "nbformat_minor": 2
}
